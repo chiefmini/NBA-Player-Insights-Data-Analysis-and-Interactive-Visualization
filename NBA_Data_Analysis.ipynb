{
 "cells": [
  {
   "cell_type": "code",
   "execution_count": 1,
   "id": "86b44dae",
   "metadata": {},
   "outputs": [
    {
     "ename": "",
     "evalue": "",
     "output_type": "error",
     "traceback": [
      "\u001b[1;31mRunning cells with 'Python 3.11.9' requires the ipykernel package.\n",
      "\u001b[1;31mRun the following command to install 'ipykernel' into the Python environment. \n",
      "\u001b[1;31mCommand: 'c:/Users/EE2532_24/AppData/Local/Microsoft/WindowsApps/python3.11.exe -m pip install ipykernel -U --user --force-reinstall'"
     ]
    }
   ],
   "source": [
    "import pandas as pd\n",
    "import plotly.express as px\n",
    "import plotly.graph_objects as go\n",
    "pd.set_option('display.max_columns', None)\n",
    "\n",
    "data = pd.read_excel('nba_player_data.xlsx')"
   ]
  },
  {
   "cell_type": "code",
   "execution_count": null,
   "id": "eadd123e",
   "metadata": {
    "scrolled": true
   },
   "outputs": [],
   "source": [
    "data.sample(10) #顯示data frame中十個隨機樣本"
   ]
  },
  {
   "cell_type": "markdown",
   "id": "418e5c9a",
   "metadata": {},
   "source": [
    "# Data cleaning & analysis"
   ]
  },
  {
   "cell_type": "code",
   "execution_count": 3,
   "id": "084ec45c",
   "metadata": {},
   "outputs": [],
   "source": [
    "data.drop(columns =['RANK', 'EFF'], inplace = True) #去掉「排名」和「效率」欄（不重要\n",
    "data['season_start_year'] = data['Year'].str[:4].astype(int)"
   ]
  },
  {
   "cell_type": "code",
   "execution_count": 4,
   "id": "f4160e1f",
   "metadata": {},
   "outputs": [],
   "source": [
    "data['TEAM'].replace(to_replace=['NOP', 'NOH'], value='NO',inplace=True) \n",
    "#Team 'NOP' & 'NOH'are the same team (changed in 2013), so we merge them into 'NO'"
   ]
  },
  {
   "cell_type": "code",
   "execution_count": 5,
   "id": "9213b405",
   "metadata": {},
   "outputs": [],
   "source": [
    "data['Season_type'].replace('Regular%20Season', 'RS', inplace=True)\n",
    "# change the index to RS --> 例行賽"
   ]
  },
  {
   "cell_type": "code",
   "execution_count": 6,
   "id": "08521d31",
   "metadata": {},
   "outputs": [],
   "source": [
    "rs_df = data[data['Season_type']=='RS']\n",
    "playoffs_df = data[data['Season_type']=='Playoffs']"
   ]
  },
  {
   "cell_type": "code",
   "execution_count": null,
   "id": "09246af3",
   "metadata": {},
   "outputs": [],
   "source": [
    "data.columns"
   ]
  },
  {
   "cell_type": "code",
   "execution_count": 8,
   "id": "8fc7a0a9",
   "metadata": {},
   "outputs": [],
   "source": [
    "total_cols = ['MIN','FGM','FGA','FG3M','FG3A','FTM','FTA',\n",
    "              'OREB','DREB','REB','AST','STL','BLK','TOV','PF','PTS']\n",
    "#篩選我要的數據"
   ]
  },
  {
   "cell_type": "markdown",
   "id": "df4b5913",
   "metadata": {},
   "source": [
    "# Which player stat are correlated with each other"
   ]
  },
  {
   "cell_type": "code",
   "execution_count": null,
   "id": "ff6b6d85",
   "metadata": {},
   "outputs": [],
   "source": [
    "#以球員為單位，整理這十年在total_cols欄位裡的數據\n",
    "data_per_min = data.groupby(['PLAYER','PLAYER_ID','Year'])[total_cols].sum().reset_index()\n",
    "#我們將收集的是總數據-->除以「總比賽時數」--> made/attempt -->整理出「進階數據」\n",
    "for col in data_per_min.columns[4:]:\n",
    "    data_per_min[col] = data_per_min[col]/data_per_min['MIN']\n",
    "#Advance stat\n",
    "data_per_min['FG%'] = data_per_min['FGM']/data_per_min['FGA']      #field goal percentage\n",
    "data_per_min['3PT%'] = data_per_min['FG3M']/data_per_min['FG3A']   #3-point field goal percentage\n",
    "data_per_min['FT%'] = data_per_min['FTM']/data_per_min['FTA']      #free throw percentage\n",
    "data_per_min['FG3A%'] = data_per_min['FG3A']/data_per_min['FGA']   #3-point attempt percentage\n",
    "data_per_min['PTS/FGA'] = data_per_min['PTS']/data_per_min['FGA']  #scoring efficiency\n",
    "data_per_min['FG3M/FGM'] = data_per_min['FG3M']/data_per_min['FGM'] #3-point efficiency\n",
    "data_per_min['FTA/FGA'] = data_per_min['FTA']/data_per_min['FGA']   #free-throw attempt per field goal attempt\n",
    "data_per_min['TRU%'] = 0.5*data_per_min['PTS']/(data_per_min['FGA']+0.475*data_per_min['FTA']) #true-shooting percentage\n",
    "data_per_min['AST_TOV'] = data_per_min['AST']/data_per_min['TOV'] #Turnover ratio\n",
    "\n",
    "#篩掉球員賽季總比賽時數<50分鐘\n",
    "data_per_min = data_per_min[data_per_min['MIN']>=50]\n",
    "#不需要做player id的相關性\n",
    "data_per_min.drop(columns='PLAYER_ID', inplace=True)\n",
    "\n",
    "#plot graph\n",
    "fig = px.imshow(data_per_min.corr(numeric_only=True))\n",
    "fig.show()"
   ]
  },
  {
   "cell_type": "markdown",
   "id": "0a0e0944",
   "metadata": {},
   "source": [
    "# How are minutes played distributed?"
   ]
  },
  {
   "cell_type": "code",
   "execution_count": null,
   "id": "89af867c",
   "metadata": {},
   "outputs": [],
   "source": [
    "#球員在「例行賽」的總分鐘數「百分比分佈」\n",
    "fig = px.histogram(x=rs_df['MIN'], histnorm = 'percent')\n",
    "#球員在「季候賽」的總分鐘數「百分比分佈」\n",
    "fig_2 = px.histogram(x=playoffs_df['MIN'], histnorm = 'percent')\n",
    "\n",
    "fig.update_layout(xaxis_title='total minutes played (per regular season)')\n",
    "fig_2.update_layout(xaxis_title='total minutes played (per playoffs)')\n",
    "fig.show()\n",
    "fig_2.show()"
   ]
  },
  {
   "cell_type": "code",
   "execution_count": null,
   "id": "8e0b15e7",
   "metadata": {},
   "outputs": [],
   "source": [
    "# 時數篩選function\n",
    "def hist_data(df=rs_df, min_MIN=0, min_GP=0):\n",
    "    return df.loc[(df['MIN']>=min_MIN) & (df['GP']>=min_GP), 'MIN']/\\\n",
    "    df.loc[(df['MIN']>=min_MIN) & (df['GP']>=min_GP), 'GP']\n",
    "\n",
    "fig = go.Figure()\n",
    "fig.add_trace(go.Histogram(x = hist_data(rs_df, 50 ,5), histnorm='percent', name='Regular Season',\n",
    "                          xbins = {'start':0, 'end':46, 'size':1}))\n",
    "fig.add_trace(go.Histogram(x = hist_data(playoffs_df, 5, 1), histnorm='percent', \n",
    "                           name='Playoffs',xbins = {'start':0, 'end':46, 'size':1}))\n",
    "\n",
    "fig.update_layout(barmode='overlay')\n",
    "fig.update_traces(opacity=0.5)\n",
    "fig.show()"
   ]
  },
  {
   "cell_type": "code",
   "execution_count": 12,
   "id": "254c89b5",
   "metadata": {},
   "outputs": [],
   "source": [
    "rs_12to34_min_percentage = ((hist_data(rs_df,50,5)>=12)&(hist_data(rs_df,50,5)<=34)).mean()"
   ]
  },
  {
   "cell_type": "code",
   "execution_count": 13,
   "id": "a8d55eec",
   "metadata": {},
   "outputs": [],
   "source": [
    "playoffs_12to34_min_percentage = ((hist_data(playoffs_df,5,1)>=12)&(hist_data(playoffs_df,5,1)<=34)).mean()"
   ]
  },
  {
   "cell_type": "markdown",
   "id": "4670820b",
   "metadata": {},
   "source": [
    "# How has the game changed over the past 10 years?"
   ]
  },
  {
   "cell_type": "code",
   "execution_count": null,
   "id": "a3898d55",
   "metadata": {},
   "outputs": [],
   "source": [
    "change_df = data.groupby('season_start_year')[total_cols].sum().reset_index() #依季度之「數據總和」表\n",
    "#Possesion（每一波攻勢） estimation\n",
    "change_df['POSS_est'] = change_df['FGA']-change_df['OREB']+change_df['TOV']+0.44*change_df['FTA']\n",
    "#將POSS_est欄位移到第三左column\n",
    "change_df = change_df[list(change_df.columns[0:2])+['POSS_est']+list(change_df.columns[2:-1])]\n",
    "\n",
    "change_df['FG%'] = change_df['FGM']/change_df['FGA']\n",
    "change_df['3PT%'] = change_df['FG3M']/change_df['FG3A']\n",
    "change_df['FT%'] = change_df['FTM']/change_df['FTA']\n",
    "change_df['AST%'] = change_df['AST']/change_df['FGM']\n",
    "change_df['FG3A%'] = change_df['FG3A']/change_df['FGA']\n",
    "change_df['PTS/FGA'] = change_df['PTS']/change_df['FGA']\n",
    "change_df['FG3M/FGM'] = change_df['FG3M']/change_df['FGM']\n",
    "change_df['FTA/FGA'] = change_df['FTA']/change_df['FGA']\n",
    "change_df['TRU%'] = 0.5*change_df['PTS']/(change_df['FGA']+0.475*change_df['FTA'])\n",
    "change_df['AST_TOV'] = change_df['AST']/change_df['TOV']\n",
    "\n",
    "change_df"
   ]
  },
  {
   "cell_type": "code",
   "execution_count": null,
   "id": "baacd393",
   "metadata": {},
   "outputs": [],
   "source": [
    "change_per48_df = change_df.copy() #per 48 minutes (一場比賽的總時長)\n",
    "for col in change_per48_df.columns[2:18]:\n",
    "    change_per48_df[col] = (change_per48_df[col]/change_per48_df['MIN'])*48*5 \n",
    "    #average stat per minutes per team（乘上場上五人)\n",
    "    \n",
    "change_per48_df.drop(columns = 'MIN', inplace=True)\n",
    "\n",
    "fig = go.Figure()\n",
    "for col in change_per48_df.columns[1:]:\n",
    "    fig.add_trace(go.Scatter(x=change_per48_df['season_start_year'],\n",
    "                             y=change_per48_df[col], name=col))\n",
    "fig.show()"
   ]
  },
  {
   "cell_type": "code",
   "execution_count": null,
   "id": "c6bdec25",
   "metadata": {},
   "outputs": [],
   "source": [
    "change_per100_df = change_df.copy()\n",
    "\n",
    "for col in change_per100_df.columns[3:18]:\n",
    "    change_per100_df[col] = (change_per100_df[col]/change_per100_df['POSS_est'])*100\n",
    "     #average stat per 100 possesion\n",
    "        \n",
    "change_per100_df.drop(columns=['MIN','POSS_est'], inplace=True)\n",
    "\n",
    "fig = go.Figure()\n",
    "for col in change_per100_df.columns[1:]:\n",
    "    fig.add_trace(go.Scatter(x=change_per100_df['season_start_year'],\n",
    "                             y=change_per100_df[col], name=col))\n",
    "fig.show()"
   ]
  },
  {
   "cell_type": "code",
   "execution_count": null,
   "id": "5fa99693",
   "metadata": {},
   "outputs": [
    {
     "ename": "",
     "evalue": "",
     "output_type": "error",
     "traceback": [
      "\u001b[1;31mRunning cells with 'Python 3.11.9' requires the ipykernel package.\n",
      "\u001b[1;31mRun the following command to install 'ipykernel' into the Python environment. \n",
      "\u001b[1;31mCommand: 'c:/Users/EE2532_24/AppData/Local/Microsoft/WindowsApps/python3.11.exe -m pip install ipykernel -U --user --force-reinstall'"
     ]
    }
   ],
   "source": [
    "## Compare Regular season to Playoffs"
   ]
  },
  {
   "cell_type": "code",
   "execution_count": null,
   "id": "9e0160d2",
   "metadata": {},
   "outputs": [],
   "source": [
    "rs_change_df = rs_df.groupby('season_start_year')[total_cols].sum().reset_index()\n",
    "playoffs_change_df = playoffs_df.groupby('season_start_year')[total_cols].sum().reset_index()\n",
    "\n",
    "for i in [rs_change_df,playoffs_change_df]:\n",
    "    i['POSS_est'] = i['FGA']-i['OREB']+i['TOV']+0.44*i['FTA']\n",
    "    i['POSS_per_48'] = (i['POSS_est']/i['MIN'])*48*5\n",
    "    #POSS_per_48 --> 一場比賽一隊平均有幾個攻勢\n",
    "    i['FG%'] = i['FGM']/i['FGA']\n",
    "    i['3PT%'] = i['FG3M']/i['FG3A']\n",
    "    i['FT%'] = i['FTM']/i['FTA']\n",
    "    i['AST%'] = i['AST']/i['FGM']\n",
    "    i['FG3A%'] = i['FG3A']/i['FGA']\n",
    "    i['PTS/FGA'] = i['PTS']/i['FGA']\n",
    "    i['FG3M/FGM'] = i['FG3M']/i['FGM']\n",
    "    i['FTA/FGA'] = i['FTA']/i['FGA']\n",
    "    i['TRU%'] = 0.5*i['PTS']/(i['FGA']+0.475*i['FTA'])\n",
    "    i['AST_TOV'] = i['AST']/i['TOV']\n",
    "    \n",
    "    for col in total_cols:\n",
    "        i[col] = 100*i[col]/i['POSS_est']\n",
    "        #換成average stat per 100 persession\n",
    "    i.drop(columns=['MIN','POSS_est'], inplace=True)\n",
    "    \n",
    "rs_change_df"
   ]
  },
  {
   "cell_type": "code",
   "execution_count": null,
   "id": "4437424d",
   "metadata": {},
   "outputs": [],
   "source": [
    "playoffs_change_df"
   ]
  },
  {
   "cell_type": "code",
   "execution_count": null,
   "id": "e3751fc5",
   "metadata": {},
   "outputs": [],
   "source": [
    "#「季後賽」對「例行賽」的「數據變化」百分差\n",
    "comp_change_df = round(100*(playoffs_change_df-rs_change_df)/rs_change_df,3)\n",
    "comp_change_df['season_start_year'] = list(range(2012,2022))\n",
    "comp_change_df"
   ]
  },
  {
   "cell_type": "code",
   "execution_count": null,
   "id": "c2f019c1",
   "metadata": {},
   "outputs": [],
   "source": [
    "fig = go.Figure()\n",
    "for col in comp_change_df.columns[1:]:\n",
    "    fig.add_trace(go.Scatter(x=comp_change_df['season_start_year'],\n",
    "                             y=comp_change_df[col], name=col))\n",
    "fig.show()"
   ]
  },
  {
   "cell_type": "code",
   "execution_count": null,
   "id": "abe65e1d",
   "metadata": {},
   "outputs": [],
   "source": []
  }
 ],
 "metadata": {
  "kernelspec": {
   "display_name": "Python 3",
   "language": "python",
   "name": "python3"
  },
  "language_info": {
   "codemirror_mode": {
    "name": "ipython",
    "version": 3
   },
   "file_extension": ".py",
   "mimetype": "text/x-python",
   "name": "python",
   "nbconvert_exporter": "python",
   "pygments_lexer": "ipython3",
   "version": "3.11.9"
  }
 },
 "nbformat": 4,
 "nbformat_minor": 5
}
